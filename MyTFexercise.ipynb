{
  "nbformat": 4,
  "nbformat_minor": 0,
  "metadata": {
    "colab": {
      "name": "MyTFexercise.ipynb",
      "provenance": [],
      "collapsed_sections": [],
      "toc_visible": true,
      "include_colab_link": true
    },
    "kernelspec": {
      "name": "python3",
      "display_name": "Python 3"
    }
  },
  "cells": [
    {
      "cell_type": "markdown",
      "metadata": {
        "id": "view-in-github",
        "colab_type": "text"
      },
      "source": [
        "<a href=\"https://colab.research.google.com/github/donovansurgick/Trill.Don/blob/master/MyTFexercise.ipynb\" target=\"_parent\"><img src=\"https://colab.research.google.com/assets/colab-badge.svg\" alt=\"Open In Colab\"/></a>"
      ]
    },
    {
      "cell_type": "code",
      "metadata": {
        "id": "NSM8ZvI5lUkI",
        "colab_type": "code",
        "outputId": "bbfcf401-ed40-4b8d-fb2c-c81d4ab4c112",
        "colab": {
          "base_uri": "https://localhost:8080/",
          "height": 230
        }
      },
      "source": [
        "# First Example (Python3)\n",
        "\n",
        "import tensorflow as tf\n",
        "mnist = tf.keras.datasets.mnist\n",
        "\n",
        "(x_train, y_train),(x_test, y_test) = mnist.load_data()\n",
        "x_train, x_test = x_train / 255.0, x_test / 255.0\n",
        "\n",
        "model = tf.keras.models.Sequential([\n",
        "  tf.keras.layers.Flatten(input_shape=(28, 28)),\n",
        "  tf.keras.layers.Dense(512, activation=tf.nn.relu),\n",
        "  tf.keras.layers.Dropout(0.2),\n",
        "  tf.keras.layers.Dense(10, activation=tf.nn.softmax)\n",
        "])\n",
        "model.compile(optimizer='adam',\n",
        "              loss='sparse_categorical_crossentropy',\n",
        "              metrics=['accuracy'])\n",
        "\n",
        "model.fit(x_train, y_train, epochs=5)\n",
        "model.evaluate(x_test, y_test)"
      ],
      "execution_count": 2,
      "outputs": [
        {
          "output_type": "stream",
          "text": [
            "Epoch 1/5\n",
            "1875/1875 [==============================] - 7s 4ms/step - loss: 0.2208 - accuracy: 0.9347\n",
            "Epoch 2/5\n",
            "1875/1875 [==============================] - 7s 4ms/step - loss: 0.0962 - accuracy: 0.9708\n",
            "Epoch 3/5\n",
            "1875/1875 [==============================] - 7s 4ms/step - loss: 0.0694 - accuracy: 0.9784\n",
            "Epoch 4/5\n",
            "1875/1875 [==============================] - 7s 3ms/step - loss: 0.0538 - accuracy: 0.9831\n",
            "Epoch 5/5\n",
            "1875/1875 [==============================] - 7s 4ms/step - loss: 0.0424 - accuracy: 0.9866\n",
            "313/313 [==============================] - 1s 2ms/step - loss: 0.0771 - accuracy: 0.9770\n"
          ],
          "name": "stdout"
        },
        {
          "output_type": "execute_result",
          "data": {
            "text/plain": [
              "[0.07710131257772446, 0.9769999980926514]"
            ]
          },
          "metadata": {
            "tags": []
          },
          "execution_count": 2
        }
      ]
    },
    {
      "cell_type": "markdown",
      "metadata": {
        "id": "x5BPEiNeleqW",
        "colab_type": "text"
      },
      "source": [
        "First example"
      ]
    },
    {
      "cell_type": "markdown",
      "metadata": {
        "id": "zkjx0TsvyYNq",
        "colab_type": "text"
      },
      "source": [
        "NN model requires:\n",
        "(1) Train Data (for model.fit())\n",
        "(2) Validation Data (optional to model.fit())\n",
        "(3) Test Data (for model.evaluate())"
      ]
    },
    {
      "cell_type": "markdown",
      "metadata": {
        "id": "5Ey-tYuC2Wwo",
        "colab_type": "text"
      },
      "source": [
        "#IMAGE CLASSIFICATION"
      ]
    },
    {
      "cell_type": "code",
      "metadata": {
        "id": "IGB-ppponWPQ",
        "colab_type": "code",
        "outputId": "e6f908ae-291c-4124-dc60-7639ffc033f6",
        "colab": {
          "base_uri": "https://localhost:8080/",
          "height": 1000
        }
      },
      "source": [
        "# Basic Classification Example (Python3)\n",
        "\n",
        "# To make softmax sum to exactly 1\n",
        "from __future__ import absolute_import, division, print_function\n",
        "\n",
        "# TensorFlow and tf.keras\n",
        "import tensorflow as tf\n",
        "from tensorflow import keras\n",
        "\n",
        "# Helper libraries\n",
        "import numpy as np\n",
        "import matplotlib.pyplot as plt\n",
        "\n",
        "print(tf.__version__)\n",
        "\n",
        "'''\n",
        "We will use 60,000 images to train the network and 10,000 images to evaluate \n",
        "how accurately the network learned to classify images. \n",
        "You can access the Fashion MNIST into numpy arrays (60K train, 10K test):\n",
        "'''\n",
        "fashion_mnist = keras.datasets.fashion_mnist\n",
        "(train_images, train_labels), (test_images, test_labels) = fashion_mnist.load_data()\n",
        "\n",
        "'''\n",
        "Each image is 28x28 NumPy arrays, with pixel values ranging between 0 and 255. \n",
        "The labels are an array of integers, ranging from 0 to 9 -- so, name them here:\n",
        "'''\n",
        "class_names = ['banjo', 'bass clarinet', 'basson', 'cello', 'clarient', \n",
        "               'contrabasson', 'cor anglais', 'double bass', 'flute', 'french horn']\n",
        "\n",
        "# Now, Explore the loaded data (in numpy arrays)\n",
        "print(train_images.shape) #this is (60000, 28, 28)\n",
        "print(len(train_labels)) #this is 60000\n",
        "print(train_labels) #this is array([9, 0, 0, ..., 3, 0, 5], dtype=uint8)\n",
        "\n",
        "print(test_images.shape) #this is (10000, 28, 28)\n",
        "print(len(test_labels)) #this is 10000\n",
        "\n",
        "# See one of the actual data images\n",
        "plt.figure()\n",
        "plt.imshow(train_images[0])\n",
        "plt.colorbar()\n",
        "plt.grid(False)\n",
        "plt.show()\n",
        "\n",
        "# Preprocessing Data\n",
        "'''\n",
        "We scale these values to a range of 0 to 1. \n",
        "For this, we divide the values by 255. \n",
        "It's important that the training set and the testing set are preprocessed in the same way:\n",
        "'''\n",
        "train_images = train_images / 255.0\n",
        "test_images = test_images / 255.0\n",
        "\n",
        "# See one of the actual data images\n",
        "plt.figure()\n",
        "plt.imshow(train_images[0], cmap=plt.cm.binary) #see the second parameter\n",
        "#plt.colorbar()\n",
        "plt.grid(False)\n",
        "plt.show()\n",
        "\n",
        "# See 25 (train_images, train_labels)\n",
        "plt.figure(figsize=(10,10))\n",
        "for i in range(25):\n",
        "    plt.subplot(5,5,i+1)\n",
        "    plt.xticks([])\n",
        "    plt.yticks([])\n",
        "    plt.grid(False)\n",
        "    plt.imshow(train_images[i], cmap=plt.cm.binary)\n",
        "    plt.xlabel(class_names[train_labels[i]])\n",
        "plt.show()\n"
      ],
      "execution_count": 3,
      "outputs": [
        {
          "output_type": "stream",
          "text": [
            "2.2.0-rc2\n",
            "(60000, 28, 28)\n",
            "60000\n",
            "[9 0 0 ... 3 0 5]\n",
            "(10000, 28, 28)\n",
            "10000\n"
          ],
          "name": "stdout"
        },
        {
          "output_type": "display_data",
          "data": {
            "image/png": "[encoded data removed]",
            "text/plain": [
              "<Figure size 432x288 with 2 Axes>"
            ]
          },
          "metadata": {
            "tags": []
          }
        },
        {
          "output_type": "display_data",
          "data": {
            "image/png": "[encoded data removed]",
            "text/plain": [
              "<Figure size 432x288 with 1 Axes>"
            ]
          },
          "metadata": {
            "tags": []
          }
        },
        {
          "output_type": "display_data",
          "data": {
            "image/png": "[encoded data removed]",
            "text/plain": [
              "<Figure size 720x720 with 25 Axes>"
            ]
          },
          "metadata": {
            "tags": []
          }
        }
      ]
    },
    {
      "cell_type": "markdown",
      "metadata": {
        "id": "Yuhx2doq2tjI",
        "colab_type": "text"
      },
      "source": [
        "##Build, Compile, Train, and Evaluate an NN Model"
      ]
    },
    {
      "cell_type": "code",
      "metadata": {
        "id": "e8Oxc0XmqHTH",
        "colab_type": "code",
        "colab": {}
      },
      "source": [
        "# (1) BUILD An NN MODEL\n",
        "\n",
        "model = keras.Sequential([\n",
        "    keras.layers.Flatten(input_shape=(28, 28)),      # Flatten 28x28 image\n",
        "    keras.layers.Dense(128, activation=tf.nn.relu),  # Hidden layer fully connected (Dense)\n",
        "    keras.layers.Dense(10, activation=tf.nn.softmax) # 10 probable scores that sum to 1\n",
        "])"
      ],
      "execution_count": 0,
      "outputs": []
    },
    {
      "cell_type": "code",
      "metadata": {
        "id": "xAb_FP96uXln",
        "colab_type": "code",
        "colab": {}
      },
      "source": [
        "# (2) COMPILE THE MODEL\n",
        "\n",
        "model.compile(optimizer='adam', \n",
        "              loss='sparse_categorical_crossentropy',\n",
        "              metrics=['accuracy']) #accuracy - the correct answer rate"
      ],
      "execution_count": 0,
      "outputs": []
    },
    {
      "cell_type": "code",
      "metadata": {
        "id": "LvYTguyvussu",
        "colab_type": "code",
        "outputId": "0cd01ff6-722c-4c0b-c961-12fa2ec9b1b4",
        "colab": {
          "base_uri": "https://localhost:8080/",
          "height": 212
        }
      },
      "source": [
        "# (3) TRAIN THE MODEL\n",
        "\n",
        "model.fit(train_images, train_labels, epochs=5)"
      ],
      "execution_count": 6,
      "outputs": [
        {
          "output_type": "stream",
          "text": [
            "Epoch 1/5\n",
            "1875/1875 [==============================] - 3s 2ms/step - loss: 0.4955 - accuracy: 0.8272\n",
            "Epoch 2/5\n",
            "1875/1875 [==============================] - 3s 2ms/step - loss: 0.3736 - accuracy: 0.8653\n",
            "Epoch 3/5\n",
            "1875/1875 [==============================] - 3s 2ms/step - loss: 0.3344 - accuracy: 0.8789\n",
            "Epoch 4/5\n",
            "1875/1875 [==============================] - 3s 2ms/step - loss: 0.3138 - accuracy: 0.8849\n",
            "Epoch 5/5\n",
            "1875/1875 [==============================] - 3s 2ms/step - loss: 0.2960 - accuracy: 0.8908\n"
          ],
          "name": "stdout"
        },
        {
          "output_type": "execute_result",
          "data": {
            "text/plain": [
              "<tensorflow.python.keras.callbacks.History at 0x7fbe4054d6d8>"
            ]
          },
          "metadata": {
            "tags": []
          },
          "execution_count": 6
        }
      ]
    },
    {
      "cell_type": "code",
      "metadata": {
        "id": "TXD0lJ3lvXNf",
        "colab_type": "code",
        "outputId": "c3e95a09-9229-4c97-f939-22f4640306ab",
        "colab": {
          "base_uri": "https://localhost:8080/",
          "height": 90
        }
      },
      "source": [
        "# (4) TEST (EVALUATE) THE MODEL\n",
        "test_loss, test_acc = model.evaluate(test_images, test_labels)\n",
        "print('Test accuracy:', test_acc)\n",
        "\n",
        "'''\n",
        "See the accuracy on the test dataset is a less than the accuracy on the training dataset. \n",
        "This gap between training accuracy and test accuracy is an example of overfitting. \n",
        "Overfitting is when a machine learning model performs worse on new data than on their training data.\n",
        "'''"
      ],
      "execution_count": 7,
      "outputs": [
        {
          "output_type": "stream",
          "text": [
            "313/313 [==============================] - 0s 1ms/step - loss: 0.3788 - accuracy: 0.8634\n",
            "Test accuracy: 0.8633999824523926\n"
          ],
          "name": "stdout"
        },
        {
          "output_type": "execute_result",
          "data": {
            "text/plain": [
              "'\\nSee the accuracy on the test dataset is a less than the accuracy on the training dataset. \\nThis gap between training accuracy and test accuracy is an example of overfitting. \\nOverfitting is when a machine learning model performs worse on new data than on their training data.\\n'"
            ]
          },
          "metadata": {
            "tags": []
          },
          "execution_count": 7
        }
      ]
    },
    {
      "cell_type": "markdown",
      "metadata": {
        "id": "tElCnkKV3IL1",
        "colab_type": "text"
      },
      "source": [
        "##Use the Model (Prediction)"
      ]
    },
    {
      "cell_type": "code",
      "metadata": {
        "id": "oOwowBJEwTjA",
        "colab_type": "code",
        "outputId": "8c4faa91-1d49-445b-ddf0-3cc8d8d3aed2",
        "colab": {
          "base_uri": "https://localhost:8080/",
          "height": 106
        }
      },
      "source": [
        "# How Use the trained NN model (Prediction)\n",
        "\n",
        "# (1) product the softmax output\n",
        "predictions = model.predict(test_images)\n",
        "print(predictions[0]) # The 10 probable ranks that sum to 1 from the softmax layer \n",
        "print(np.sum(predictions[0])) #NOTE, this is not exactly 1 is the __future__ import is not included in the beginning\n",
        "\n",
        "# (2) Take the maximum one\n",
        "most_likely=np.argmax(predictions[0]) #argmax is the index to the max element\n",
        "print(most_likely) \n",
        "print(class_names[most_likely])"
      ],
      "execution_count": 8,
      "outputs": [
        {
          "output_type": "stream",
          "text": [
            "[6.1369233e-06 6.7506477e-08 6.8984740e-08 1.2060589e-08 7.3330156e-08\n",
            " 5.2914537e-02 4.7670451e-06 1.5875997e-02 1.7035698e-05 9.3118137e-01]\n",
            "1.0000001\n",
            "9\n",
            "Ankle boot\n"
          ],
          "name": "stdout"
        }
      ]
    },
    {
      "cell_type": "markdown",
      "metadata": {
        "id": "l2RB1tMTyso0",
        "colab_type": "text"
      },
      "source": [
        "##Visualize the Softmax Output"
      ]
    },
    {
      "cell_type": "code",
      "metadata": {
        "id": "AVXDT_DLyrIV",
        "colab_type": "code",
        "outputId": "10b16727-a5e6-4c7a-d72e-e8c0a7cebb79",
        "colab": {
          "base_uri": "https://localhost:8080/",
          "height": 203
        }
      },
      "source": [
        "#NOW, Visualize Predictions\n",
        "\n",
        "def plot_image(i, predictions_array, true_label, img):\n",
        "  predictions_array, true_label, img = predictions_array[i], true_label[i], img[i]\n",
        "  plt.grid(False)\n",
        "  plt.xticks([])\n",
        "  plt.yticks([])\n",
        "  \n",
        "  plt.imshow(img, cmap=plt.cm.binary)\n",
        "\n",
        "  predicted_label = np.argmax(predictions_array)\n",
        "  if predicted_label == true_label:\n",
        "    color = 'blue'\n",
        "  else:\n",
        "    color = 'red'\n",
        "  \n",
        "  plt.xlabel(\"{} {:2.0f}% ({})\".format(class_names[predicted_label],\n",
        "                                100*np.max(predictions_array),\n",
        "                                class_names[true_label]),\n",
        "                                color=color)\n",
        "\n",
        "def plot_value_array(i, predictions_array, true_label):\n",
        "  predictions_array, true_label = predictions_array[i], true_label[i]\n",
        "  plt.grid(False)\n",
        "  plt.xticks([])\n",
        "  plt.yticks([])\n",
        "  thisplot = plt.bar(range(10), predictions_array, color=\"#777777\")\n",
        "  plt.ylim([0, 1]) \n",
        "  predicted_label = np.argmax(predictions_array)\n",
        " \n",
        "  thisplot[predicted_label].set_color('red')\n",
        "  thisplot[true_label].set_color('blue')\n",
        "\n",
        "# Visualize Predictions[0]\n",
        "i = 0\n",
        "plt.figure(figsize=(6,3))\n",
        "plt.subplot(1,2,1) # 1x2 plot grid and the first cell\n",
        "plot_image(i, predictions, test_labels, test_images)\n",
        "plt.subplot(1,2,2) # 1x2 plot grid and the second cell\n",
        "plot_value_array(i, predictions,  test_labels)\n",
        "plt.show()\n",
        "\n"
      ],
      "execution_count": 9,
      "outputs": [
        {
          "output_type": "display_data",
          "data": {
            "image/png": "[encoded data removed]",
            "text/plain": [
              "<Figure size 432x216 with 2 Axes>"
            ]
          },
          "metadata": {
            "tags": []
          }
        }
      ]
    },
    {
      "cell_type": "code",
      "metadata": {
        "id": "8QtX4ZQc0em_",
        "colab_type": "code",
        "outputId": "dd5e2f80-3e87-4b7d-bdc1-8514d02e06bb",
        "colab": {
          "base_uri": "https://localhost:8080/",
          "height": 589
        }
      },
      "source": [
        "# Plot many test images, their predicted label, and the true label\n",
        "# Color correct predictions in blue, incorrect predictions in red\n",
        "num_rows = 5\n",
        "num_cols = 3\n",
        "num_images = num_rows*num_cols\n",
        "plt.figure(figsize=(2*2*num_cols, 2*num_rows))\n",
        "for i in range(num_images):\n",
        "  plt.subplot(num_rows, 2*num_cols, 2*i+1)\n",
        "  plot_image(i, predictions, test_labels, test_images) # custom-made above\n",
        "  plt.subplot(num_rows, 2*num_cols, 2*i+2)\n",
        "  plot_value_array(i, predictions, test_labels) # custom-made above\n",
        "plt.show()"
      ],
      "execution_count": 10,
      "outputs": [
        {
          "output_type": "display_data",
          "data": {
            "image/png": "[encoded data removed]",
            "text/plain": [
              "<Figure size 864x720 with 30 Axes>"
            ]
          },
          "metadata": {
            "tags": []
          }
        }
      ]
    },
    {
      "cell_type": "markdown",
      "metadata": {
        "id": "Z0cLdrN21WHZ",
        "colab_type": "text"
      },
      "source": [
        "##How to make a prediction given a single image, not a whole batch"
      ]
    },
    {
      "cell_type": "code",
      "metadata": {
        "id": "avN_EpqT1ibQ",
        "colab_type": "code",
        "outputId": "445bc3aa-fce2-4a36-c767-056bf907e262",
        "colab": {
          "base_uri": "https://localhost:8080/",
          "height": 644
        }
      },
      "source": [
        "# Grab an image from the test dataset\n",
        "img = test_images[0]\n",
        "print(img.shape)\n",
        "\n",
        "# Add the image to a batch where it's the only member.\n",
        "img = (np.expand_dims(img,0))\n",
        "print(img.shape)\n",
        "\n",
        "predictions_single = model.predict(img)\n",
        "print(predictions_single)\n",
        "most_likely=np.argmax(predictions_single)\n",
        "print(most_likely) \n",
        "print(class_names[most_likely])\n",
        "\n",
        "\n",
        "plot_value_array(0, predictions_single, test_labels)\n",
        "_ = plt.xticks(range(10), class_names, rotation=45)\n",
        "\n",
        "# Visualize Predictions[0]\n",
        "i = 0\n",
        "plt.figure(figsize=(6,3))\n",
        "plt.subplot(1,2,1) # 1x2 plot grid and the first cell\n",
        "plot_image(i, predictions_single, test_labels, test_images)\n",
        "plt.subplot(1,2,2) # 1x2 plot grid and the second cell\n",
        "plot_value_array(i, predictions_single,  test_labels)\n",
        "_ = plt.xticks(range(10), class_names, rotation=90)\n",
        "plt.show()"
      ],
      "execution_count": 11,
      "outputs": [
        {
          "output_type": "stream",
          "text": [
            "(28, 28)\n",
            "(1, 28, 28)\n",
            "[[6.1369183e-06 6.7506484e-08 6.8984619e-08 1.2060568e-08 7.3330163e-08\n",
            "  5.2914448e-02 4.7670414e-06 1.5875991e-02 1.7035651e-05 9.3118149e-01]]\n",
            "9\n",
            "Ankle boot\n"
          ],
          "name": "stdout"
        },
        {
          "output_type": "display_data",
          "data": {
            "image/png": "[encoded data removed]",
            "text/plain": [
              "<Figure size 432x288 with 1 Axes>"
            ]
          },
          "metadata": {
            "tags": []
          }
        },
        {
          "output_type": "display_data",
          "data": {
            "image/png": "[encoded data removed]",
            "text/plain": [
              "<Figure size 432x216 with 2 Axes>"
            ]
          },
          "metadata": {
            "tags": []
          }
        }
      ]
    },
    {
      "cell_type": "code",
      "metadata": {
        "id": "1cRvfjf786mc",
        "colab_type": "code",
        "outputId": "3d9bb214-ff10-4a43-d0f0-7405f663dfa0",
        "colab": {
          "base_uri": "https://localhost:8080/",
          "height": 238
        }
      },
      "source": [
        "# Preprocessing the Data\n",
        "\n",
        "# Use the pad_sequences function to standardize the lengths of the reviews:\n",
        "train_data = keras.preprocessing.sequence.pad_sequences(train_data,\n",
        "                                                        value=word_index[\"<PAD>\"], #seems not working\n",
        "                                                        padding='post', #pre or post padding\n",
        "                                                        maxlen=256)\n",
        "test_data = keras.preprocessing.sequence.pad_sequences(test_data,\n",
        "                                                       value=word_index[\"<PAD>\"], #seems not working\n",
        "                                                       padding='post', #pre or post padding\n",
        "                                                       maxlen=256)\n",
        "print(len(train_data[0]), len(train_data[1]))\n",
        "print(train_data[0])\n",
        "\n",
        "print(len(test_data[0]), len(test_data[1]))\n",
        "print(test_data[0])\n"
      ],
      "execution_count": 12,
      "outputs": [
        {
          "output_type": "error",
          "ename": "NameError",
          "evalue": "ignored",
          "traceback": [
            "\u001b[0;31m---------------------------------------------------------------------------\u001b[0m",
            "\u001b[0;31mNameError\u001b[0m                                 Traceback (most recent call last)",
            "\u001b[0;32m<ipython-input-12-656b396afa4f>\u001b[0m in \u001b[0;36m<module>\u001b[0;34m()\u001b[0m\n\u001b[0;32m----> 1\u001b[0;31m train_data = keras.preprocessing.sequence.pad_sequences(train_data,\n\u001b[0m\u001b[1;32m      2\u001b[0m                                                         \u001b[0mvalue\u001b[0m\u001b[0;34m=\u001b[0m\u001b[0mword_index\u001b[0m\u001b[0;34m[\u001b[0m\u001b[0;34m\"<PAD>\"\u001b[0m\u001b[0;34m]\u001b[0m\u001b[0;34m,\u001b[0m \u001b[0;31m#seems not working\u001b[0m\u001b[0;34m\u001b[0m\u001b[0;34m\u001b[0m\u001b[0m\n\u001b[1;32m      3\u001b[0m                                                         \u001b[0mpadding\u001b[0m\u001b[0;34m=\u001b[0m\u001b[0;34m'post'\u001b[0m\u001b[0;34m,\u001b[0m \u001b[0;31m#pre or post padding\u001b[0m\u001b[0;34m\u001b[0m\u001b[0;34m\u001b[0m\u001b[0m\n\u001b[1;32m      4\u001b[0m                                                         maxlen=256)\n\u001b[1;32m      5\u001b[0m test_data = keras.preprocessing.sequence.pad_sequences(test_data,\n",
            "\u001b[0;31mNameError\u001b[0m: name 'train_data' is not defined"
          ]
        }
      ]
    },
    {
      "cell_type": "code",
      "metadata": {
        "id": "Ckg_Tp6XkXlT",
        "colab_type": "code",
        "colab": {}
      },
      "source": [
        "# (1) Build an NN Model\n",
        "\n",
        "# input shape is the vocabulary count used for the movie reviews (10,000 words)\n",
        "vocab_size = 10000 #We know this because we deleted all other words in the keras.load_data()\n",
        "\n",
        "model = keras.Sequential() # A typical NN model with layers stacked up\n",
        "model.add(keras.layers.Embedding(vocab_size, 16)) # out=(batch, sequence, embedded_vec16) word to vec16\n",
        "model.add(keras.layers.GlobalAveragePooling1D()) # out=(batch, pooled_vec16) sequence (review) to vec16\n",
        "model.add(keras.layers.Dense(16, activation=tf.nn.relu)) # out=(batch, internal_vec16)\n",
        "model.add(keras.layers.Dense(1, activation=tf.nn.sigmoid)) #out=(match, 1)\n",
        "\n",
        "model.summary()"
      ],
      "execution_count": 0,
      "outputs": []
    },
    {
      "cell_type": "code",
      "metadata": {
        "id": "1r8-U5iiwvIq",
        "colab_type": "code",
        "colab": {}
      },
      "source": [
        "# (2) Compile the model\n",
        "\n",
        "model.compile(optimizer='adam',\n",
        "              loss='binary_crossentropy', # use mean_squared_error for regression or numerical prediction\n",
        "              metrics=['acc'])"
      ],
      "execution_count": 0,
      "outputs": []
    },
    {
      "cell_type": "code",
      "metadata": {
        "id": "9A2IPA9NxE-J",
        "colab_type": "code",
        "colab": {}
      },
      "source": [
        "# (3) Train the model\n",
        "\n",
        "x_val = train_data[:10000]\n",
        "partial_x_train = train_data[10000:]\n",
        "\n",
        "y_val = train_labels[:10000]\n",
        "partial_y_train = train_labels[10000:]\n",
        "\n",
        "history = model.fit(partial_x_train,\n",
        "                    partial_y_train,\n",
        "                    epochs=40,\n",
        "                    batch_size=512,\n",
        "                    validation_data=(x_val, y_val),\n",
        "                    verbose=1)"
      ],
      "execution_count": 0,
      "outputs": []
    },
    {
      "cell_type": "code",
      "metadata": {
        "id": "KuXQx1T8zL7U",
        "colab_type": "code",
        "colab": {}
      },
      "source": [
        "# (4) Evaluate the trained model\n",
        "\n",
        "results = model.evaluate(test_data, test_labels)\n",
        "print(results)"
      ],
      "execution_count": 0,
      "outputs": []
    },
    {
      "cell_type": "code",
      "metadata": {
        "id": "retXfF2azfhq",
        "colab_type": "code",
        "colab": {}
      },
      "source": [
        "# Visualization\n",
        "\n",
        "history_dict = history.history #history was return by model.fit() in the training\n",
        "print(history_dict.keys())\n",
        "\n",
        "import matplotlib.pyplot as plt\n",
        "\n",
        "acc = history_dict['acc']\n",
        "val_acc = history_dict['val_acc']\n",
        "loss = history_dict['loss']\n",
        "val_loss = history_dict['val_loss']\n",
        "\n",
        "epochs = range(1, len(acc) + 1)\n",
        "\n",
        "# \"bo\" is for \"blue dot\"\n",
        "plt.plot(epochs, loss, 'bo', label='Training loss')\n",
        "# b is for \"solid blue line\"\n",
        "plt.plot(epochs, val_loss, 'b', label='Validation loss')\n",
        "plt.title('Training and validation loss')\n",
        "plt.xlabel('Epochs')\n",
        "plt.ylabel('Loss')\n",
        "plt.legend()\n",
        "plt.show()\n",
        "\n",
        "plt.clf()   # clear figure\n",
        "\n",
        "plt.plot(epochs, acc, 'bo', label='Training acc')\n",
        "plt.plot(epochs, val_acc, 'b', label='Validation acc')\n",
        "plt.title('Training and validation accuracy')\n",
        "plt.xlabel('Epochs')\n",
        "plt.ylabel('Accuracy')\n",
        "plt.legend()\n",
        "plt.show()"
      ],
      "execution_count": 0,
      "outputs": []
    },
    {
      "cell_type": "code",
      "metadata": {
        "id": "9YC3PT9T3Iej",
        "colab_type": "code",
        "colab": {}
      },
      "source": [
        "# How to Use the trained NN model (Prediction)\n",
        "print(test_labels)\n",
        "predictions=model.predict(test_data)\n",
        "print(predictions)\n",
        "\n",
        "# Visualize first 50\n",
        "answer=lambda a:a>0.5\n",
        "answers=[answer(predictions[i,0]) for i in range(0,50)]\n",
        "print(answers)\n",
        "plt.plot(test_labels[0:50], 'rx', label='Truth')\n",
        "#plt.plot(reviews, np.array(predictions[0:100,0]), 'go', label='Prediction')\n",
        "plt.plot(answers, 'go', label='Prediction')\n",
        "plt.title('Prediction Results')\n",
        "plt.xlabel('Reviews')\n",
        "plt.ylabel('Predictions')\n",
        "plt.legend()\n",
        "plt.show()\n",
        "\n",
        "# How to Use the trained NN model using a Single Input Text (sequence)\n",
        "data=np.expand_dims(test_data[1],0)\n",
        "prediction=model.predict(data)\n",
        "answer=lambda a:a>0.5\n",
        "print(\"\\n\",prediction,\":\",answer(prediction))\n"
      ],
      "execution_count": 0,
      "outputs": []
    },
    {
      "cell_type": "markdown",
      "metadata": {
        "id": "6cI0IPDh03Hn",
        "colab_type": "text"
      },
      "source": [
        "##Overfitting\n",
        "Validations seem to peak after about twenty epochs. This is an example of overfitting: the model performs better on the training data than it does on data it has never seen before. After this point, the model over-optimizes and learns representations specific to the training data that do not generalize to test data.\n",
        "\n",
        "For this particular case, we could prevent overfitting by simply stopping the training after twenty or so epochs. Later, you'll see how to do this automatically with a callback."
      ]
    },
    {
      "cell_type": "code",
      "metadata": {
        "id": "iQVfUuvz6ZGL",
        "colab_type": "code",
        "colab": {}
      },
      "source": [
        "# Use seaborn for pairplot\n",
        "!pip install -q seaborn\n",
        "\n",
        "from __future__ import absolute_import, division, print_function\n",
        "\n",
        "import pathlib\n",
        "\n",
        "import matplotlib.pyplot as plt\n",
        "import pandas as pd\n",
        "import seaborn as sns\n",
        "\n",
        "import tensorflow as tf\n",
        "from tensorflow import keras\n",
        "from tensorflow.keras import layers\n",
        "\n",
        "print(tf.__version__)"
      ],
      "execution_count": 0,
      "outputs": []
    },
    {
      "cell_type": "code",
      "metadata": {
        "id": "mztfmzGc65Bu",
        "colab_type": "code",
        "colab": {}
      },
      "source": [
        "# Download CVS Data\n",
        "\n",
        "dataset_path = keras.utils.get_file(\"auto-mpg.data\", \"https://archive.ics.uci.edu/ml/machine-learning-databases/auto-mpg/auto-mpg.data\")\n",
        "dataset_path"
      ],
      "execution_count": 0,
      "outputs": []
    },
    {
      "cell_type": "code",
      "metadata": {
        "id": "zlBFXkO47QuB",
        "colab_type": "code",
        "colab": {}
      },
      "source": [
        "# Load CVS into Pandas (pandas.read_cvs())\n",
        "\n",
        "column_names = ['MPG','Cylinders','Displacement','Horsepower','Weight',\n",
        "                'Acceleration', 'Model Year', 'Origin'] \n",
        "raw_dataset = pd.read_csv(dataset_path, names=column_names,\n",
        "                      na_values = \"?\", comment='\\t',\n",
        "                      sep=\" \", skipinitialspace=True)\n",
        "\n",
        "dataset = raw_dataset.copy()\n",
        "print(dataset.tail())\n",
        "\n",
        "# Delete rows containing NA (unknown value)\n",
        "print(\"\\n\",dataset.isna().sum())\n",
        "print(len(dataset),\" before-cleaning rows\")\n",
        "dataset = dataset.dropna()\n",
        "print(\"\\n\",dataset.isna().sum())\n",
        "print(len(dataset),\" after-cleaning rows\")\n",
        "\n",
        "#Replace Origin into one-hot vector of <USA, Europe, Japan>\n",
        "origin = dataset.pop('Origin')\n",
        "dataset['USA'] = (origin == 1)*1.0\n",
        "dataset['Europe'] = (origin == 2)*1.0\n",
        "dataset['Japan'] = (origin == 3)*1.0\n",
        "print(dataset.tail())"
      ],
      "execution_count": 0,
      "outputs": []
    },
    {
      "cell_type": "code",
      "metadata": {
        "id": "rRv_sKJG9To6",
        "colab_type": "code",
        "colab": {}
      },
      "source": [
        "# Preprocessing Data\n",
        "train_dataset = dataset.sample(frac=0.8,random_state=0)\n",
        "test_dataset = dataset.drop(train_dataset.index)\n",
        "\n",
        "# Inspect Data\n",
        "print(train_dataset.describe())\n",
        "train_stats = train_dataset.describe()\n",
        "train_stats.pop(\"MPG\")\n",
        "train_stats = train_stats.transpose()\n",
        "print(train_stats)\n",
        "\n",
        "# Joint Distribution\n",
        "sns.pairplot(train_dataset[[\"MPG\", \"Cylinders\", \"Displacement\", \"Weight\"]], diag_kind=\"kde\")\n",
        "\n",
        "# Prepare target data (label)\n",
        "train_labels = train_dataset.pop('MPG')\n",
        "test_labels = test_dataset.pop('MPG')\n",
        "\n",
        "# Normalize data values\n",
        "def norm(x):\n",
        "  return (x - train_stats['mean']) / train_stats['std']\n",
        "normed_train_data = norm(train_dataset)\n",
        "normed_test_data = norm(test_dataset)\n",
        "print(normed_train_data.tail())\n"
      ],
      "execution_count": 0,
      "outputs": []
    },
    {
      "cell_type": "code",
      "metadata": {
        "id": "n-lWxAnzBAC8",
        "colab_type": "code",
        "colab": {}
      },
      "source": [
        "# Prepare the model\n",
        "\n",
        "def build_model():\n",
        "  model = keras.Sequential([\n",
        "    layers.Dense(64, activation=tf.nn.relu, input_shape=[len(train_dataset.keys())]),\n",
        "    layers.Dense(64, activation=tf.nn.relu),\n",
        "    layers.Dense(1)\n",
        "  ])\n",
        "\n",
        "  optimizer = tf.keras.optimizers.RMSprop(0.001)\n",
        "\n",
        "  model.compile(loss='mean_squared_error',\n",
        "                optimizer=optimizer,\n",
        "                metrics=['mean_absolute_error', 'mean_squared_error'])\n",
        "  return model\n",
        "\n",
        "model = build_model()\n",
        "model.summary()\n",
        "\n",
        "example_batch = normed_train_data[:10]\n",
        "example_result = model.predict(example_batch)\n",
        "print(example_result)"
      ],
      "execution_count": 0,
      "outputs": []
    },
    {
      "cell_type": "code",
      "metadata": {
        "id": "hVz_6jLTBwvc",
        "colab_type": "code",
        "colab": {}
      },
      "source": [
        "# Train the model\n",
        "class PrintDot(keras.callbacks.Callback):\n",
        "  def on_epoch_end(self, epoch, logs):\n",
        "    if epoch % 100 == 0: print('')\n",
        "    print('.',end='')\n",
        "\n",
        "EPOCHS = 1000\n",
        "\n",
        "history = model.fit(\n",
        "  normed_train_data, train_labels,\n",
        "  epochs=EPOCHS, validation_split = 0.2, verbose=0,\n",
        "  callbacks=[PrintDot()])\n",
        "\n",
        "hist = pd.DataFrame(history.history)\n",
        "hist['epoch'] = history.epoch\n",
        "print(hist.tail())\n",
        "\n",
        "model = build_model()\n",
        "\n",
        "# The patience parameter is the amount of epochs to check for improvement\n",
        "def plot_history(history):\n",
        "  hist = pd.DataFrame(history.history)\n",
        "  hist['epoch'] = history.epoch\n",
        "  \n",
        "  plt.figure()\n",
        "  plt.xlabel('Epoch')\n",
        "  plt.ylabel('Mean Abs Error [MPG]')\n",
        "  plt.plot(hist['epoch'], hist['mean_absolute_error'],\n",
        "           label='Train Error')\n",
        "  plt.plot(hist['epoch'], hist['val_mean_absolute_error'],\n",
        "           label = 'Val Error')\n",
        "  plt.ylim([0,5])\n",
        "  plt.legend()\n",
        "  plt.show()\n",
        "  plt.figure()\n",
        "  plt.xlabel('Epoch')\n",
        "  plt.ylabel('Mean Square Error [$MPG^2$]')\n",
        "  plt.plot(hist['epoch'], hist['mean_squared_error'],\n",
        "           label='Train Error')\n",
        "  plt.plot(hist['epoch'], hist['val_mean_squared_error'],\n",
        "           label = 'Val Error')\n",
        "  plt.ylim([0,20])\n",
        "  plt.legend()\n",
        "  plt.show()\n",
        "\n",
        "\n",
        "plot_history(history)\n",
        "early_stop = keras.callbacks.EarlyStopping(monitor='val_loss', patience=10)\n",
        "\n",
        "history = model.fit(normed_train_data, train_labels, epochs=EPOCHS,\n",
        "                    validation_split = 0.2, verbose=0, callbacks=[early_stop, PrintDot()])\n",
        "\n",
        "plot_history(history)\n"
      ],
      "execution_count": 0,
      "outputs": []
    },
    {
      "cell_type": "code",
      "metadata": {
        "id": "55ZIym8LDDlu",
        "colab_type": "code",
        "colab": {}
      },
      "source": [
        "# Test the model\n",
        "loss, mae, mse = model.evaluate(normed_test_data, test_labels, verbose=0)\n",
        "print(\"Testing set Mean Abs Error: {:5.2f} MPG\".format(mae))\n",
        "\n",
        "test_predictions = model.predict(normed_test_data).flatten()\n",
        "\n",
        "plt.scatter(test_labels, test_predictions)\n",
        "plt.xlabel('True Values [MPG]')\n",
        "plt.ylabel('Predictions [MPG]')\n",
        "plt.axis('equal')\n",
        "plt.axis('square')\n",
        "plt.xlim([0,plt.xlim()[1]])\n",
        "plt.ylim([0,plt.ylim()[1]])\n",
        "_ = plt.plot([-100, 100], [-100, 100])\n",
        "\n"
      ],
      "execution_count": 0,
      "outputs": []
    },
    {
      "cell_type": "code",
      "metadata": {
        "id": "pT09Dcsqip58",
        "colab_type": "code",
        "colab": {}
      },
      "source": [
        "#plt.clf()   # clear figure\n",
        "\n",
        "error = test_predictions - test_labels\n",
        "plt.hist(error, bins = 25)\n",
        "plt.xlabel(\"Prediction Error [MPG]\")\n",
        "_ = plt.ylabel(\"Count\")"
      ],
      "execution_count": 0,
      "outputs": []
    },
    {
      "cell_type": "markdown",
      "metadata": {
        "id": "rNzs_kwuQcZw",
        "colab_type": "text"
      },
      "source": [
        ""
      ]
    },
    {
      "cell_type": "code",
      "metadata": {
        "id": "OWYDBfl0QdHp",
        "colab_type": "code",
        "colab": {}
      },
      "source": [
        ""
      ],
      "execution_count": 0,
      "outputs": []
    }
  ]
}